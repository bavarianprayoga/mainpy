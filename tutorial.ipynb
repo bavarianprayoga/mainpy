{
 "cells": [
  {
   "cell_type": "markdown",
   "metadata": {},
   "source": [
    "Variables"
   ]
  },
  {
   "cell_type": "code",
   "execution_count": null,
   "metadata": {},
   "outputs": [],
   "source": [
    "first_name = \"Bavarian\"\n",
    "last_name = \"Prayoga\"\n",
    "full_name = first_name + \" \" + last_name\n",
    "\n",
    "print(\"Hello, \" + full_name + \".\")\n",
    "\n",
    "#print(type(full_name)) - buat print data type dari variable\n",
    "\n",
    "age = 18\n",
    "age += 1\n",
    "print(\"Your age \" + str(age) + \" years old.\") #hrs convert ke string dulu\n",
    "\n",
    "#multiple assignment\n",
    "\n",
    "name2, age2, height2 = \"Bavarian\", 18, 1.75\n",
    "\n",
    "age3 = age4 = age5 = age6 = 18"
   ]
  },
  {
   "cell_type": "markdown",
   "metadata": {},
   "source": [
    "String Methods"
   ]
  },
  {
   "cell_type": "code",
   "execution_count": null,
   "metadata": {},
   "outputs": [],
   "source": [
    "name = \"bavarian\"\n",
    "\n",
    "print(len(name)) #string length\n",
    "print(name.find(\"a\")) #index of the first occurence of a\n",
    "print(name.capitalize()) #capitalize first letter\n",
    "print(name.upper()) #uppercase\n",
    "print(name.lower()) #lowercase\n",
    "print(name.isdigit()) #check if all char are digits\n",
    "print(name.isalpha()) #check if all char in the string are alphabetic\n",
    "print(name.count(\"a\")) #count number of occurences of a\n",
    "print(name.replace(\"a\", \"o\")) #replace a with o\n",
    "print(name*3) #print the string three times"
   ]
  },
  {
   "cell_type": "markdown",
   "metadata": {},
   "source": [
    "User Input"
   ]
  },
  {
   "cell_type": "code",
   "execution_count": null,
   "metadata": {},
   "outputs": [],
   "source": [
    "name = input(\"What is your name? \")\n",
    "age = int(input(\"How old are you? \"))\n",
    "\n",
    "age += 1\n",
    "\n",
    "print(\"Hello, \" + name + \".\")\n",
    "print(\"You will be \" + str(age) + \" years old next year.\")"
   ]
  },
  {
   "cell_type": "markdown",
   "metadata": {},
   "source": [
    "Math Functions"
   ]
  },
  {
   "cell_type": "code",
   "execution_count": null,
   "metadata": {},
   "outputs": [],
   "source": [
    "import math\n",
    "\n",
    "pi = math.pi\n",
    "x = 1\n",
    "y = 2\n",
    "z = 3\n",
    "\n",
    "print(round(pi)) #round to the nearest integer\n",
    "print(round(pi, 2)) #round to 2 decimal places\n",
    "print(math.floor(pi)) #round down\n",
    "print(math.ceil(pi)) #round up\n",
    "print(abs(-pi)) #absolute value \n",
    "print(pow(pi, 2)) #power\n",
    "print(math.sqrt(420)) #square root\n",
    "print(max(x, y, z)) #return the highest value\n",
    "print(min(x, y, z)) #return the lowest value"
   ]
  },
  {
   "cell_type": "markdown",
   "metadata": {},
   "source": [
    "String Slicing"
   ]
  },
  {
   "cell_type": "code",
   "execution_count": null,
   "metadata": {},
   "outputs": [],
   "source": [
    "#slicing = substring. [start:stop:step]\n",
    "\n",
    "name = \"Bavarian Prayoga\"\n",
    "\n",
    "first_name = name[:8]\n",
    "last_name = name[9:]\n",
    "reversed_name = name[::-1]\n",
    "\n",
    "print(first_name)\n",
    "print(last_name)\n",
    "print(reversed_name)\n",
    "\n",
    "website1 = \"http://google.com\"\n",
    "website2 = \"http://thispersondoesnotexist.com\"\n",
    "\n",
    "slice = slice(7, -4)\n",
    "\n",
    "print(website1[slice])\n",
    "print(website2[slice])"
   ]
  },
  {
   "cell_type": "markdown",
   "metadata": {},
   "source": [
    "If-Else Statements"
   ]
  },
  {
   "cell_type": "code",
   "execution_count": null,
   "metadata": {},
   "outputs": [],
   "source": [
    "age = int(input(\"How old are you? \"))\n",
    "\n",
    "if age >= 18 and age <= 55:\n",
    "    print(\"enjoy the misery\")\n",
    "elif not(age < 18):\n",
    "    print(\"you should buy a casket\")\n",
    "else:\n",
    "    print(\"fucking kids\")"
   ]
  },
  {
   "cell_type": "markdown",
   "metadata": {},
   "source": [
    "While Loop"
   ]
  },
  {
   "cell_type": "code",
   "execution_count": null,
   "metadata": {},
   "outputs": [],
   "source": [
    "name = None\n",
    "\n",
    "while not name:\n",
    "    name = input(\"Enter your name: \")\n",
    "\n",
    "name = name.capitalize()\n",
    "print(\"Hello, \" + name + \".\")"
   ]
  },
  {
   "cell_type": "markdown",
   "metadata": {},
   "source": [
    "For Loop"
   ]
  },
  {
   "cell_type": "code",
   "execution_count": null,
   "metadata": {},
   "outputs": [],
   "source": [
    "import time\n",
    "\n",
    "# for i in range(10, 50, 2):\n",
    "#     print(i)\n",
    "\n",
    "# for i in \"Bavarian Prayoga\":\n",
    "#     print(i)\n",
    "\n",
    "for sec in range (10, 0, -1):\n",
    "    print(sec)\n",
    "    time.sleep(1) #in seconds"
   ]
  },
  {
   "cell_type": "markdown",
   "metadata": {},
   "source": [
    "Nested Loop"
   ]
  },
  {
   "cell_type": "code",
   "execution_count": null,
   "metadata": {},
   "outputs": [],
   "source": [
    "rows = int(input(\"How many rows? \"))\n",
    "col = int(input(\"How many columns? \"))\n",
    "sym = input(\"What char do you want? \")\n",
    "\n",
    "for i in range(rows):\n",
    "    for j in range(col):\n",
    "        print(sym, end = \"\") #end biar ga new line\n",
    "    print()"
   ]
  },
  {
   "cell_type": "markdown",
   "metadata": {},
   "source": [
    "Loop Control Statements"
   ]
  },
  {
   "cell_type": "code",
   "execution_count": null,
   "metadata": {},
   "outputs": [],
   "source": []
  }
 ],
 "metadata": {
  "kernelspec": {
   "display_name": "Python 3",
   "language": "python",
   "name": "python3"
  },
  "language_info": {
   "codemirror_mode": {
    "name": "ipython",
    "version": 3
   },
   "file_extension": ".py",
   "mimetype": "text/x-python",
   "name": "python",
   "nbconvert_exporter": "python",
   "pygments_lexer": "ipython3",
   "version": "3.11.8"
  }
 },
 "nbformat": 4,
 "nbformat_minor": 2
}
