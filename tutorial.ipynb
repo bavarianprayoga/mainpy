{
 "cells": [
  {
   "cell_type": "markdown",
   "metadata": {},
   "source": []
  },
  {
   "cell_type": "markdown",
   "metadata": {},
   "source": [
    "Variables"
   ]
  },
  {
   "cell_type": "code",
   "execution_count": null,
   "metadata": {},
   "outputs": [],
   "source": [
    "first_name = \"Bavarian\"\n",
    "last_name = \"Prayoga\"\n",
    "full_name = first_name + \" \" + last_name\n",
    "\n",
    "print(\"Hello, \" + full_name + \".\")\n",
    "\n",
    "#print(type(full_name)) - buat print data type dari variable\n",
    "\n",
    "age = 18\n",
    "age += 1\n",
    "print(\"Your age \" + str(age) + \" years old.\") #hrs convert ke string dulu\n",
    "\n",
    "#multiple assignment\n",
    "\n",
    "name2, age2, height2 = \"Bavarian\", 18, 1.75\n",
    "\n",
    "age3 = age4 = age5 = age6 = 18"
   ]
  },
  {
   "cell_type": "markdown",
   "metadata": {},
   "source": [
    "String Methods"
   ]
  },
  {
   "cell_type": "code",
   "execution_count": null,
   "metadata": {},
   "outputs": [],
   "source": [
    "name = \"bavarian\"\n",
    "\n",
    "print(len(name)) #string length\n",
    "print(name.find(\"a\")) #index of the first occurence of a\n",
    "print(name.capitalize()) #capitalize first letter\n",
    "print(name.upper()) #uppercase\n",
    "print(name.lower()) #lowercase\n",
    "print(name.isdigit()) #check if all char are digits\n",
    "print(name.isalpha()) #check if all char in the string are alphabetic\n",
    "print(name.count(\"a\")) #count number of occurences of a\n",
    "print(name.replace(\"a\", \"o\")) #replace a with o\n",
    "print(name*3) #print the string three times"
   ]
  },
  {
   "cell_type": "markdown",
   "metadata": {},
   "source": [
    "User Input"
   ]
  },
  {
   "cell_type": "code",
   "execution_count": null,
   "metadata": {},
   "outputs": [],
   "source": [
    "name = input(\"What is your name? \")\n",
    "age = int(input(\"How old are you? \"))\n",
    "\n",
    "age += 1\n",
    "\n",
    "print(\"Hello, \" + name + \".\")\n",
    "print(\"You will be \" + str(age) + \" years old next year.\")"
   ]
  },
  {
   "cell_type": "markdown",
   "metadata": {},
   "source": [
    "Math Functions"
   ]
  },
  {
   "cell_type": "code",
   "execution_count": null,
   "metadata": {},
   "outputs": [],
   "source": [
    "import math\n",
    "\n",
    "pi = math.pi\n",
    "x = 1\n",
    "y = 2\n",
    "z = 3\n",
    "\n",
    "print(round(pi)) #round to the nearest integer\n",
    "print(round(pi, 2)) #round to 2 decimal places\n",
    "print(math.floor(pi)) #round down\n",
    "print(math.ceil(pi)) #round up\n",
    "print(abs(-pi)) #absolute value \n",
    "print(pow(pi, 2)) #power\n",
    "print(math.sqrt(420)) #square root\n",
    "print(max(x, y, z)) #return the highest value\n",
    "print(min(x, y, z)) #return the lowest value"
   ]
  },
  {
   "cell_type": "markdown",
   "metadata": {},
   "source": [
    "String Slicing"
   ]
  },
  {
   "cell_type": "code",
   "execution_count": null,
   "metadata": {},
   "outputs": [],
   "source": [
    "#slicing = substring. [start:stop:step]\n",
    "\n",
    "name = \"Bavarian Prayoga\"\n",
    "\n",
    "first_name = name[:8]\n",
    "last_name = name[9:]\n",
    "reversed_name = name[::-1]\n",
    "\n",
    "print(first_name)\n",
    "print(last_name)\n",
    "print(reversed_name)\n",
    "\n",
    "website1 = \"http://google.com\"\n",
    "website2 = \"http://thispersondoesnotexist.com\"\n",
    "\n",
    "slice = slice(7, -4)\n",
    "\n",
    "print(website1[slice])\n",
    "print(website2[slice])"
   ]
  },
  {
   "cell_type": "markdown",
   "metadata": {},
   "source": [
    "If-Else Statements"
   ]
  },
  {
   "cell_type": "code",
   "execution_count": null,
   "metadata": {},
   "outputs": [],
   "source": [
    "age = int(input(\"How old are you? \"))\n",
    "\n",
    "if age >= 18 and age <= 55:\n",
    "    print(\"enjoy the misery\")\n",
    "elif not(age < 18):\n",
    "    print(\"you should buy a casket\")\n",
    "else:\n",
    "    print(\"fucking kids\")"
   ]
  },
  {
   "cell_type": "markdown",
   "metadata": {},
   "source": [
    "While Loop"
   ]
  },
  {
   "cell_type": "code",
   "execution_count": null,
   "metadata": {},
   "outputs": [],
   "source": [
    "name = None\n",
    "\n",
    "while not name:\n",
    "    name = input(\"Enter your name: \")\n",
    "\n",
    "name = name.capitalize()\n",
    "print(\"Hello, \" + name + \".\")"
   ]
  },
  {
   "cell_type": "markdown",
   "metadata": {},
   "source": [
    "For Loop"
   ]
  },
  {
   "cell_type": "code",
   "execution_count": null,
   "metadata": {},
   "outputs": [],
   "source": [
    "import time\n",
    "\n",
    "# for i in range(10, 50, 2):\n",
    "#     print(i)\n",
    "\n",
    "# for i in \"Bavarian Prayoga\":\n",
    "#     print(i)\n",
    "\n",
    "for sec in range (10, 0, -1):\n",
    "    print(sec)\n",
    "    time.sleep(1) #in seconds"
   ]
  },
  {
   "cell_type": "markdown",
   "metadata": {},
   "source": [
    "Nested Loop"
   ]
  },
  {
   "cell_type": "code",
   "execution_count": null,
   "metadata": {},
   "outputs": [],
   "source": [
    "rows = int(input(\"How many rows? \"))\n",
    "col = int(input(\"How many columns? \"))\n",
    "sym = input(\"What char do you want? \")\n",
    "\n",
    "for i in range(rows):\n",
    "    for j in range(col):\n",
    "        print(sym, end = \"\") #end biar ga new line\n",
    "    print()"
   ]
  },
  {
   "cell_type": "markdown",
   "metadata": {},
   "source": [
    "Loop Control Statements"
   ]
  },
  {
   "cell_type": "code",
   "execution_count": null,
   "metadata": {},
   "outputs": [],
   "source": [
    "while True:\n",
    "    name = input(\"enter ur name: \")\n",
    "    if name != \"\":\n",
    "        break\n",
    "\n",
    "phone_number = \"123-456-789-012\"\n",
    "\n",
    "for i in phone_number:\n",
    "    if i == \"-\":\n",
    "        continue\n",
    "    print(i, end=\"\")\n",
    "\n",
    "print(\"\")\n",
    "\n",
    "for i in range(1,21):\n",
    "    if i == 13:\n",
    "        pass\n",
    "    else:\n",
    "        print(i)"
   ]
  },
  {
   "cell_type": "markdown",
   "metadata": {},
   "source": [
    "Lists"
   ]
  },
  {
   "cell_type": "code",
   "execution_count": null,
   "metadata": {},
   "outputs": [],
   "source": [
    "#store multiple items in a single variable\n",
    "\n",
    "food = [\"pizza\", \"bakso\", \"mi ayam\", \"somay\"]\n",
    "\n",
    "food[0] = \"nasgor\"\n",
    "\n",
    "# print(food[0])\n",
    "# print(food[1])\n",
    "# print(food[2])\n",
    "# print(food[3])\n",
    "\n",
    "for i in food:\n",
    "    print(i)\n",
    "\n",
    "food.append(\"kerak telor\")\n",
    "food.remove(\"bakso\")\n",
    "food.pop() #remove the last item\n",
    "food.insert(2, \"sate babi\")\n",
    "food.sort() #sort alphabetically\n",
    "food.reverse() #reverse the order\n",
    "food.clear() #clear the list"
   ]
  },
  {
   "cell_type": "markdown",
   "metadata": {},
   "source": [
    "2D Lists"
   ]
  },
  {
   "cell_type": "code",
   "execution_count": null,
   "metadata": {},
   "outputs": [],
   "source": [
    "drinks = [\"soda\", \"water\", \"coffee\"]\n",
    "desserts = [\"cake\", \"ice cream\"]\n",
    "dinner = [\"turkey\", \"potato\"]\n",
    "\n",
    "food = [drinks, desserts, dinner]\n",
    "\n",
    "print(food[0][1]) #index 1 of the first list\n",
    "print(food[1][0]) #index 0 of the second list"
   ]
  },
  {
   "cell_type": "markdown",
   "metadata": {},
   "source": [
    "Tuples"
   ]
  },
  {
   "cell_type": "code",
   "execution_count": null,
   "metadata": {},
   "outputs": [],
   "source": [
    "#ordered and unchangeable collection, used to group together related data\n",
    "\n",
    "student = (\"Bavarian\", 18, \"3.8\")\n",
    "\n",
    "student.count(18) #count how many times 18 appears\n",
    "student.index(\"3.8\") #index of the first occurence of 3.8\n",
    "\n",
    "for i in student:\n",
    "    print(i)\n",
    "\n",
    "if \"Bavarian\" in student:\n",
    "    print(\"Bavarian is here\")"
   ]
  },
  {
   "cell_type": "markdown",
   "metadata": {},
   "source": [
    "Sets"
   ]
  },
  {
   "cell_type": "code",
   "execution_count": null,
   "metadata": {},
   "outputs": [],
   "source": [
    "#unordered, unindexed. No duplicate values\n",
    "\n",
    "utensils = {\"fork\", \"spoon\", \"knife\", \"knife\", \"knife\"}\n",
    "dishes = {\"bowl\", \"plate\", \"cup\", \"knife\"}\n",
    "\n",
    "# utensils.add(\"napkin\")\n",
    "# utensils.remove(\"fork\")\n",
    "# utensils.clear()\n",
    "# utensils.update(dishes) #combine two sets\n",
    "\n",
    "dinner_table = utensils.union(dishes) #combine two sets\n",
    "\n",
    "# for i in dinner_table:\n",
    "#     print(i)\n",
    "\n",
    "print(utensils.difference(dishes)) #print the difference, what's in utensils but not in dishes\n",
    "print(dishes.difference(utensils)) #print the difference, what's in dishes but not in utensils\n",
    "\n",
    "print(utensils.intersection(dishes)) #print the intersection, what's in both sets"
   ]
  },
  {
   "cell_type": "markdown",
   "metadata": {},
   "source": [
    "Dictionaries"
   ]
  },
  {
   "cell_type": "code",
   "execution_count": null,
   "metadata": {},
   "outputs": [],
   "source": [
    "#changeable, unordered of unique key-value pairs. Fast because they use hashing.\n",
    "\n",
    "capitals = {'USA': 'Washington DC', 'France': 'Paris', 'Indonesia': 'Jakarta', 'Germany': 'Berlin'}\n",
    "\n",
    "# print(capitals['Indonesia'])\n",
    "# print(capitals.get('Singapore')) #check if key exists\n",
    "# print(capitals.keys()) #print all keys\n",
    "# print(capitals.values()) #print all values\n",
    "# print(capitals.items()) #print all items\n",
    "\n",
    "capitals['UK'] = 'London' #add new item, only one key-value pair\n",
    "\n",
    "capitals.update({'Malaysia': 'Kuala Lumpur', 'Italy' : 'Rome', 'Indonesia' : 'IKN'}) #update an item, multiple key-value pairs. Can also be used to add new item\n",
    "\n",
    "# capitals.pop('UK') #remove an item\n",
    "# capitals.popitem() #remove the last item\n",
    "# capitals.clear() #clear the dictionary\n",
    "\n",
    "for key, value in capitals.items():\n",
    "    print(key, \"-\", value) #print all items\n",
    "\n",
    "for index, (key, value) in enumerate(capitals.items()):\n",
    "    print(f\"{index + 1}. {key} - {value}\") #print all items with index, f is formatted string literal"
   ]
  },
  {
   "cell_type": "markdown",
   "metadata": {},
   "source": [
    "Indexing"
   ]
  },
  {
   "cell_type": "code",
   "execution_count": null,
   "metadata": {},
   "outputs": [],
   "source": [
    "#index operator [] = gives access to a sequence's element (string, list, tuple)\n",
    "\n",
    "name = \"bavarian Prayoga\"\n",
    "\n",
    "# if(name[0].islower()):\n",
    "#     name = name.capitalize()\n",
    "\n",
    "first_name = name[:8].upper()\n",
    "last_name = name[9:].lower()\n",
    "last_char = name[-1]\n",
    "\n",
    "print(first_name)\n",
    "print(last_name)\n",
    "print(last_char)\n",
    "\n",
    "print(name)"
   ]
  },
  {
   "cell_type": "markdown",
   "metadata": {},
   "source": [
    "Functions and Return Statement"
   ]
  },
  {
   "cell_type": "code",
   "execution_count": 77,
   "metadata": {},
   "outputs": [
    {
     "data": {
      "text/plain": [
       "125"
      ]
     },
     "execution_count": 77,
     "metadata": {},
     "output_type": "execute_result"
    }
   ],
   "source": [
    "# def greet(x):\n",
    "#     print(\"Hello, \"+ x + \".\")\n",
    "#     print(\"Good Morning\")\n",
    "\n",
    "# name = \"Pembantai\"\n",
    "# greet(name)\n",
    "\n",
    "def power(x, y):\n",
    "    return x**y\n",
    "\n",
    "power(5, 3)"
   ]
  },
  {
   "cell_type": "markdown",
   "metadata": {},
   "source": [
    "Keyword Arguments"
   ]
  },
  {
   "cell_type": "code",
   "execution_count": 78,
   "metadata": {},
   "outputs": [
    {
     "name": "stdout",
     "output_type": "stream",
     "text": [
      "Good Morning, Bavarian.\n"
     ]
    }
   ],
   "source": [
    "def greet(name, time):\n",
    "    print(f\"Good {time}, {name}.\")\n",
    "\n",
    "greet(time=\"Morning\", name=\"Bavarian\")"
   ]
  },
  {
   "cell_type": "markdown",
   "metadata": {},
   "source": [
    "Nested Functions Calls"
   ]
  },
  {
   "cell_type": "code",
   "execution_count": 80,
   "metadata": {},
   "outputs": [
    {
     "name": "stdout",
     "output_type": "stream",
     "text": [
      "3\n"
     ]
    }
   ],
   "source": [
    "# num = input(\"Enter a number: \")\n",
    "# num = float(num)\n",
    "# num = abs(num)\n",
    "# num = round(num)\n",
    "# print(num)\n",
    "\n",
    "num = round(abs(float(input(\"Enter a number: \"))))\n",
    "print(num)"
   ]
  },
  {
   "cell_type": "markdown",
   "metadata": {},
   "source": [
    "Args and Kwargs"
   ]
  },
  {
   "cell_type": "code",
   "execution_count": 94,
   "metadata": {},
   "outputs": [
    {
     "name": "stdout",
     "output_type": "stream",
     "text": [
      "54\n",
      "Hello, Lord Bavarian Endra Prayoga "
     ]
    }
   ],
   "source": [
    "#args = pack all arguments into a tuple\n",
    "#kwargs = pack all keyword arguments into a dictionary\n",
    "\n",
    "# def add(num1, num2):\n",
    "#     return num1 + num2\n",
    "\n",
    "def add(*args): #nama ga mesti args, yg penting ada * di depannya\n",
    "    sum = 0\n",
    "    args = list(args) #convert tuple to list, so we can modify it with index\n",
    "    args[0] = 0\n",
    "    for i in args:\n",
    "        sum += i\n",
    "    return sum\n",
    "\n",
    "print(add(1, 2, 3, 4, 5, 6, 7, 8, 9, 10))\n",
    "\n",
    "# def hello(first, last):\n",
    "#     print(\"Hello \" + first + \" \" + last)\n",
    "\n",
    "def hello(**kwargs): #nama ga mesti kwargs, yg penting ada ** di depannya\n",
    "    # print(\"Hello, \" + kwargs['first'] + \" \" + kwargs['last'] + \".\")\n",
    "    print(\"Hello, \", end=\"\")\n",
    "    for key, value in kwargs.items():\n",
    "        print(value, end=\" \")\n",
    "\n",
    "hello(title=\"Lord\", first=\"Bavarian\", middle=\"Endra\", last=\"Prayoga\")\n",
    "\n"
   ]
  },
  {
   "cell_type": "markdown",
   "metadata": {},
   "source": [
    "String Format"
   ]
  },
  {
   "cell_type": "code",
   "execution_count": null,
   "metadata": {},
   "outputs": [],
   "source": [
    "#TODO lanjutin"
   ]
  }
 ],
 "metadata": {
  "kernelspec": {
   "display_name": "Python 3",
   "language": "python",
   "name": "python3"
  },
  "language_info": {
   "codemirror_mode": {
    "name": "ipython",
    "version": 3
   },
   "file_extension": ".py",
   "mimetype": "text/x-python",
   "name": "python",
   "nbconvert_exporter": "python",
   "pygments_lexer": "ipython3",
   "version": "3.11.8"
  }
 },
 "nbformat": 4,
 "nbformat_minor": 2
}
