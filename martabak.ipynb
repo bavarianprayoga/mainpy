{
 "cells": [
  {
   "cell_type": "code",
   "execution_count": 7,
   "metadata": {},
   "outputs": [
    {
     "name": "stdout",
     "output_type": "stream",
     "text": [
      "@ @ @ @ @ \n",
      "@       @\n",
      "@       @\n",
      "@       @\n",
      "@ @ @ @ @ \n"
     ]
    }
   ],
   "source": [
    "def square(n):\n",
    "    for i in range(0, n):\n",
    "        if (i == 0 or i == (n - 1)):\n",
    "            print(\"@ \" * n)\n",
    "        else:\n",
    "            print(\"@ \" + \"  \" * (n - 2) + \"@\")\n",
    "            # \" \" * (n - 2): This creates the inner part of the row. \n",
    "            # Since each @ symbol is followed by a space, \n",
    "            # the inner part needs n-2 spaces to maintain the square shape.\n",
    "\n",
    "square(5)"
   ]
  }
 ],
 "metadata": {
  "kernelspec": {
   "display_name": "Python 3",
   "language": "python",
   "name": "python3"
  },
  "language_info": {
   "codemirror_mode": {
    "name": "ipython",
    "version": 3
   },
   "file_extension": ".py",
   "mimetype": "text/x-python",
   "name": "python",
   "nbconvert_exporter": "python",
   "pygments_lexer": "ipython3",
   "version": "3.12.6"
  }
 },
 "nbformat": 4,
 "nbformat_minor": 2
}
