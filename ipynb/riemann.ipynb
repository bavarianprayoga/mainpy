{
 "cells": [
  {
   "cell_type": "code",
   "execution_count": 8,
   "metadata": {},
   "outputs": [],
   "source": [
    "import numpy as np"
   ]
  },
  {
   "cell_type": "markdown",
   "metadata": {},
   "source": [
    "RIEMANN'S INTEGRAL\n",
    "\n",
    "INTEGRAL(a, b)(f(x) dx) = SIGMA(i = 0, n - 1)(h f(x))\n",
    "\n",
    "a = batas minimum integral\n",
    "\n",
    "b = batas maksimum integral\n",
    "\n",
    "n = jumlah titik\n",
    "\n",
    "w = lebar kotak (kalo di rumus h)\n",
    "\n",
    "x = titik koordinat untuk tiap lebar 1 kotak\n",
    "\n",
    "y = fungsi yang akan digunakan"
   ]
  },
  {
   "cell_type": "code",
   "execution_count": 9,
   "metadata": {},
   "outputs": [],
   "source": [
    "# declare variable\n",
    "\n",
    "# a = 2\n",
    "# b = 5\n",
    "# n = 5\n",
    "# w = (b - a)/(n - 1)\n",
    "# x = np.linspace(a, b, n) #Return evenly spaced numbers over a specified interval. (start, stop, amount)\n",
    "# print(x)\n",
    "\n",
    "# Latsol\n",
    "\n",
    "a = -3\n",
    "b = 3\n",
    "n = 30\n",
    "w = (b - a) / (n - 1)\n",
    "x = np.linspace(a, b, n)"
   ]
  },
  {
   "cell_type": "code",
   "execution_count": 10,
   "metadata": {},
   "outputs": [],
   "source": [
    "# F(X) function\n",
    "\n",
    "def f(x):\n",
    "    return 4*x**4 + 2*x**3 - 6*x"
   ]
  },
  {
   "cell_type": "code",
   "execution_count": 11,
   "metadata": {},
   "outputs": [
    {
     "name": "stdout",
     "output_type": "stream",
     "text": [
      "384.4323034267851\n"
     ]
    }
   ],
   "source": [
    "# LEFT RIEMANN\n",
    "\n",
    "left_riemann = w * sum(f(x)[:n - 1])\n",
    "print(left_riemann)"
   ]
  },
  {
   "cell_type": "code",
   "execution_count": 12,
   "metadata": {},
   "outputs": [
    {
     "name": "stdout",
     "output_type": "stream",
     "text": [
      "399.328855150923\n"
     ]
    }
   ],
   "source": [
    "# RIGHT RIEMANN\n",
    "\n",
    "right_riemann = w * sum(f(x)[1:])\n",
    "print(right_riemann)"
   ]
  },
  {
   "cell_type": "code",
   "execution_count": 13,
   "metadata": {},
   "outputs": [
    {
     "name": "stdout",
     "output_type": "stream",
     "text": [
      "387.26026006636687\n"
     ]
    }
   ],
   "source": [
    "# MID RIEMANN\n",
    "\n",
    "xmid = (x[1:] + x[:n - 1]) / 2\n",
    "mid_riemann = w * sum(f(xmid))\n",
    "print(mid_riemann)"
   ]
  },
  {
   "cell_type": "markdown",
   "metadata": {},
   "source": [
    "TRAPEZOID"
   ]
  },
  {
   "cell_type": "code",
   "execution_count": 14,
   "metadata": {},
   "outputs": [
    {
     "name": "stdout",
     "output_type": "stream",
     "text": [
      "391.88057928885405\n"
     ]
    }
   ],
   "source": [
    "trapezoid = (w / 2) * (f(x)[0] + f(x)[n - 1] + 2 * sum(f(x)[1:n - 1]))\n",
    "print(trapezoid)"
   ]
  }
 ],
 "metadata": {
  "kernelspec": {
   "display_name": "base",
   "language": "python",
   "name": "python3"
  },
  "language_info": {
   "codemirror_mode": {
    "name": "ipython",
    "version": 3
   },
   "file_extension": ".py",
   "mimetype": "text/x-python",
   "name": "python",
   "nbconvert_exporter": "python",
   "pygments_lexer": "ipython3",
   "version": "3.11.5"
  }
 },
 "nbformat": 4,
 "nbformat_minor": 2
}
