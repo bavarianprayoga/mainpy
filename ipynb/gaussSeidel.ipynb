{
 "cells": [
  {
   "cell_type": "code",
   "execution_count": 1,
   "metadata": {},
   "outputs": [],
   "source": [
    "import numpy as np"
   ]
  },
  {
   "cell_type": "code",
   "execution_count": 2,
   "metadata": {},
   "outputs": [
    {
     "name": "stdout",
     "output_type": "stream",
     "text": [
      "Diagonally dominant\n",
      "Iteration  1  :  [ 2.5         0.14285714 -0.41428571]\n",
      "Iteration  2  :  [ 2.56666667  0.30136054 -0.49823129]\n",
      "Iteration  3  :  [ 2.51539683  0.35198575 -0.49118043]\n",
      "Iteration  4  :  [ 2.48773394  0.35686763 -0.47989838]\n",
      "Iteration  5  :  [ 2.48153231  0.35380436 -0.4759832 ]\n",
      "Iteration  6  :  [ 2.48175889  0.35206169 -0.47550804]\n",
      "Iteration  7  :  [ 2.48247184  0.35165435 -0.47570497]\n",
      "Iteration  8  :  [ 2.48274115  0.3516618  -0.47583314]\n",
      "Iteration  9  :  [ 2.48278014  0.35170559 -0.47586593]\n",
      "Iteration  10  :  [ 2.48276918  0.35172278 -0.47586654]\n",
      "Iteration  11  :  [ 2.48276079  0.35172543 -0.47586352]\n",
      "Iteration  12  :  [ 2.48275845  0.35172481 -0.47586221]\n",
      "Iteration  13  :  [ 2.48275834  0.35172428 -0.47586198]\n",
      "Iteration  14  :  [ 2.48275852  0.35172413 -0.47586202]\n",
      "Iteration  15  :  [ 2.48275861  0.35172412 -0.47586206]\n",
      "Iteration  16  :  [ 2.48275863  0.35172413 -0.47586207]\n",
      "Iteration  17  :  [ 2.48275862  0.35172414 -0.47586207]\n",
      "Iteration  18  :  [ 2.48275862  0.35172414 -0.47586207]\n",
      "Iteration  19  :  [ 2.48275862  0.35172414 -0.47586207]\n",
      "Convergent\n"
     ]
    }
   ],
   "source": [
    "# 6x + 3y + 2z = 15\n",
    "# 2x + 7y + 3z = 6\n",
    "# 7x + 5y + 15z = 12\n",
    "\n",
    "Xs = [\n",
    "    [6, 3, 2], \n",
    "    [2, 7, 3], \n",
    "    [7, 5, 15]]\n",
    "\n",
    "Ys = [15, 6, 12]\n",
    "\n",
    "def diagonally_dominant(x):\n",
    "    x = np.array(x) # buat jadi numpy array\n",
    "    diag = np.array(np.diag(np.abs(x))) # ambil diagonal dari matrix dan diabsolutkan, absolute -> diagonal -> array\n",
    "    sum = np.sum(np.array(np.abs(x)), axis = 1) #axis 1 untuk sum per row, jumlahin semua elemen per row tapi harus absolute\n",
    "    sum_without_diag = sum - diag # sum tanpa diagonal, untuk ngecek diagonal dominance\n",
    "\n",
    "    if(np.all(diag > sum_without_diag)):\n",
    "        return True  # diagonal dominance (diagonal lebih besar dari sum tanpa diagonal)\n",
    "    else:\n",
    "        return False\n",
    "    \n",
    "def gauss_seidel(x, y, max = 20, error = 0.000000001): # max -> maksimal iterasi, error -> toleransi error\n",
    "    x = np.array(x)\n",
    "    y = np.array(y)\n",
    "\n",
    "    n_old = np.zeros(len(x[0])) # n_old -> nilai awal, array 0 sebanyak column x\n",
    "\n",
    "    diag = np.diag(x) # ambil diagonal dari matrix\n",
    "    x = -x # pindah ruas, karena rumus gauss seidel x = (y - x) / diag\n",
    "\n",
    "    np.fill_diagonal(x, 0) # isi diagonal dengan 0 untuk menghindari pembagian dengan 0\n",
    "\n",
    "    for iteration in range(max): # iterasi sebanyak max\n",
    "        n_new = np.array(n_old) # buat array baru untuk menampung hasil dari setiap iterasi\n",
    "\n",
    "        for i in range(len(x)):\n",
    "            n_new[i] = (y[i] + np.dot(x[i], n_new)) / diag[i] # rumus gauss seidel, update nilai n_new\n",
    "\n",
    "        print(\"Iteration \", iteration + 1, \" : \", n_new)\n",
    "\n",
    "        euclidean = np.sqrt(np.dot(n_new - n_old, n_new - n_old))\n",
    "\n",
    "        if(euclidean < error):\n",
    "            return True\n",
    "    \n",
    "        n_old = n_new\n",
    "\n",
    "    return False\n",
    "\n",
    "if(diagonally_dominant(Xs)):\n",
    "    print(\"Diagonally dominant\")\n",
    "    if(gauss_seidel(Xs, Ys)):\n",
    "        print(\"Convergent\")\n",
    "    else:\n",
    "        print(\"Not convergent\")"
   ]
  },
  {
   "cell_type": "code",
   "execution_count": 3,
   "metadata": {},
   "outputs": [],
   "source": [
    "#modified version\n",
    "\n",
    "# x = np.array([\n",
    "#     [6, 3, 2], \n",
    "#     [2, 7, 3], \n",
    "#     [7, 5, 15]])\n",
    "\n",
    "# y = np.array([15, 6, 12])\n",
    "\n",
    "x = np.array([\n",
    "    [9, -2, 3, 2],\n",
    "    [2, 8, -2, 3],\n",
    "    [-3, 2, 11, -4],\n",
    "    [-2, 3, 2, 10]\n",
    "])\n",
    "\n",
    "y = np.array([55, -14, 12, -21])\n",
    "\n",
    "# x = np.array([\n",
    "#     [9, -2, 3, 2, 3],\n",
    "#     [2, 8, -2, 3, 2],\n",
    "#     [-3, 2, 16, -4, 5],\n",
    "#     [-2, 3, 2, 10, 2],\n",
    "#     [4, -6, 2, 5, 11]\n",
    "# ])\n",
    "\n",
    "# y = np.array([55, -14, 12, -21, 17])"
   ]
  },
  {
   "cell_type": "code",
   "execution_count": 4,
   "metadata": {},
   "outputs": [],
   "source": [
    "def diagonal_dominant(x):\n",
    "    abs_diag = np.diag(np.abs(x))\n",
    "    sum_no_diag = np.sum(np.abs(x), axis = 1) - abs_diag\n",
    "    return np.all(abs_diag - sum_no_diag > 0)"
   ]
  },
  {
   "cell_type": "code",
   "execution_count": 5,
   "metadata": {},
   "outputs": [
    {
     "data": {
      "text/plain": [
       "True"
      ]
     },
     "execution_count": 5,
     "metadata": {},
     "output_type": "execute_result"
    }
   ],
   "source": [
    "diagonal_dominant(x)"
   ]
  },
  {
   "cell_type": "code",
   "execution_count": 12,
   "metadata": {},
   "outputs": [
    {
     "name": "stdout",
     "output_type": "stream",
     "text": [
      "1. [ 6.11111111 -3.27777778  3.35353535 -0.56515152], error = 7.723671521713559\n",
      "2. [ 4.39046016 -1.79729938  2.40957938 -1.16463403], error = 2.53039288442608\n",
      "3. [ 5.16732568 -2.00269881  2.44080351 -0.95388592], error = 0.8313234540500087\n",
      "4. [ 5.06444041 -2.04820201  2.49765287 -0.97218189], error = 0.12736762780272443\n",
      "5. [ 5.03944457 -2.02087972  2.47921505 -0.98169018], error = 0.042445965423223604\n",
      "6. [ 5.05377509 -2.02550619  2.48050699 -0.97769452], error = 0.01563336793223516\n",
      "7. [ 5.05142841 -2.02609491  2.481427   -0.97817124], error = 0.002631945978387627\n",
      "8. [ 5.05109685 -2.02560325  2.48107383 -0.97831442], error = 0.0007049023303297443\n",
      "9. [ 5.05135565 -2.02570255  2.4811104  -0.97824018], error = 0.0002892844376899909\n",
      "10. [ 5.0513049  -2.02570856  2.48112464 -0.97825138], error = 5.42254446993155e-05\n",
      "11. [ 5.0513013  -2.0256999   2.48111802 -0.97825337], error = 1.1652386093139172e-05\n",
      "12. [ 5.05130588 -2.02570195  2.48111891 -0.97825202], error = 5.271343741340323e-06\n",
      "13. [ 5.05130482 -2.02570197  2.48111912 -0.97825227], error = 1.104125309370129e-06\n",
      "14. [ 5.0513048  -2.02570182  2.481119   -0.97825229], error = 1.9478392207526495e-07\n",
      "15. [ 5.05130488 -2.02570186  2.48111902 -0.97825227], error = 9.45741541600421e-08\n",
      "16. [ 5.05130486 -2.02570186  2.48111902 -0.97825227], error = 2.2142874357797518e-08\n",
      "17. [ 5.05130486 -2.02570186  2.48111902 -0.97825227], error = 3.374592401393398e-09\n",
      "18. [ 5.05130486 -2.02570186  2.48111902 -0.97825227], error = 1.6701185790348931e-09\n",
      "19. [ 5.05130486 -2.02570186  2.48111902 -0.97825227], error = 4.3693267119992356e-10\n"
     ]
    },
    {
     "data": {
      "text/plain": [
       "'Convergent'"
      ]
     },
     "execution_count": 12,
     "metadata": {},
     "output_type": "execute_result"
    }
   ],
   "source": [
    "\n",
    "def gauss_seidel(x, y, error = 0.000000001, max_iter = 20):\n",
    "    x_no_diag = -x\n",
    "    np.fill_diagonal(x_no_diag, 0)\n",
    "    diag = np.diag(x)\n",
    "\n",
    "    old_arr, new_arr = np.zeros(len(x_no_diag)), np.zeros(len(x_no_diag))\n",
    "\n",
    "    for i in range (0, max_iter):\n",
    "        new_arr = np.array(new_arr)\n",
    "\n",
    "        for j in range(len(new_arr)):\n",
    "            new_arr[j] = (y[j] + np.dot(x_no_diag[j], new_arr)) / diag[j]\n",
    "            \n",
    "        err = np.sqrt(np.dot(new_arr - old_arr, new_arr - old_arr)) # sqrt(sum((new_arr - old_arr)^2)).\n",
    "        print(f'{i + 1}. {new_arr}, error = {err}')\n",
    "\n",
    "        if err <= error:\n",
    "            return 'Convergent'\n",
    "        old_arr = new_arr\n",
    "        \n",
    "    return 'Divergent'\n",
    "\n",
    "gauss_seidel(x, y)"
   ]
  }
 ],
 "metadata": {
  "kernelspec": {
   "display_name": "myenv",
   "language": "python",
   "name": "python3"
  },
  "language_info": {
   "codemirror_mode": {
    "name": "ipython",
    "version": 3
   },
   "file_extension": ".py",
   "mimetype": "text/x-python",
   "name": "python",
   "nbconvert_exporter": "python",
   "pygments_lexer": "ipython3",
   "version": "3.11.5"
  }
 },
 "nbformat": 4,
 "nbformat_minor": 2
}
