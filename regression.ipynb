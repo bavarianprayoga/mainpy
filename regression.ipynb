{
 "cells": [
  {
   "cell_type": "code",
   "execution_count": null,
   "metadata": {},
   "outputs": [],
   "source": [
    "import numpy as np\n",
    "import matplotlib.pyplot as plt\n",
    "from scipy.interpolate import CubicSpline"
   ]
  },
  {
   "cell_type": "markdown",
   "metadata": {},
   "source": [
    "Least Square Regression"
   ]
  },
  {
   "cell_type": "markdown",
   "metadata": {},
   "source": [
    "alpha[0] = m\n",
    "alpha[1] = b\n",
    "\n",
    "Beta = (A^T * A)^-1 * A^T * Y"
   ]
  },
  {
   "cell_type": "code",
   "execution_count": null,
   "metadata": {},
   "outputs": [],
   "source": [
    "x = [1, 2, 3, 4, 5, 6, 7, 8]\n",
    "y =[7, 5, 4, 3, 7, 8, 11, 6]\n",
    "\n",
    "x = np.array(x) # convert list to numpy array\n",
    "y = np.array(y) # convert list to numpy array\n",
    "\n",
    "A = np.vstack([x, np.ones(len(x))]).T # add a column of 1's to A, T = transpose\n",
    "y = y[:, np.newaxis] # slice Y into a column vector, newaxis = increase the dimension of the existing array by one more dimension\n",
    "\n",
    "alpha = np.dot(np.dot(np.linalg.inv(np.dot(A.T, A)), A.T), y) # ini rumus yang Beta = (A^T * A)^-1 * A^T * Y\n",
    "\n",
    "print(A)\n",
    "print(y)\n",
    "print(alpha)\n",
    "\n",
    "plt.plot(x, y, 'ro') # plot the data\n",
    "plt.plot(x, alpha[0]*x + alpha[1], label='Gatau') # plot the line\n",
    "plt.legend()\n",
    "plt.show()  "
   ]
  },
  {
   "cell_type": "markdown",
   "metadata": {},
   "source": [
    "Polynomial Regression"
   ]
  },
  {
   "cell_type": "code",
   "execution_count": null,
   "metadata": {},
   "outputs": [],
   "source": [
    "x = [1, 2, 3, 4, 5, 6, 7, 8]\n",
    "y =[7, 5, 4, 3, 7, 8, 11, 6]\n",
    "\n",
    "x = np.array(x)\n",
    "y = np.array(y)\n",
    "\n",
    "for i in range(1, 7):\n",
    "    y_reg = np.polyfit(x, y, i) # ini rumus yang Beta = (A^T * A)^-1 * A^T * Y\n",
    "    # print(y_reg)\n",
    "\n",
    "    plt.subplot(2, 3, i)\n",
    "    plt.plot(x, y, 'ro') # plot the data\n",
    "    plt.plot(x, np.polyval(y_reg, x), label='Gatau') # plot the line\n",
    "plt.legend()\n",
    "plt.show()"
   ]
  },
  {
   "cell_type": "markdown",
   "metadata": {},
   "source": [
    "Cubic Spline Interpolation"
   ]
  },
  {
   "cell_type": "code",
   "execution_count": null,
   "metadata": {},
   "outputs": [],
   "source": [
    "x = [1, 2, 3, 4, 5, 6, 7, 8]\n",
    "y = [7, 5, 4, 3, 7, 8, 11, 6]\n",
    "\n",
    "x = np.array(x)\n",
    "y = np.array(y)\n",
    "\n",
    "f = CubicSpline(x, y, bc_type='natural') # interpolate the data with a cubic spline, bc_type = boundary condition\n",
    "x_new = np.linspace(1, 8, 100) # generate 100 points between 1 and 8\n",
    "y_new = f(x_new) # evaluate the spline at the new points\n",
    "\n",
    "plt.plot(x, y, 'ro') # plot the data\n",
    "plt.plot(x_new, y_new, label='Gatau') # plot the line\n",
    "plt.legend()\n",
    "plt.show()"
   ]
  },
  {
   "cell_type": "markdown",
   "metadata": {},
   "source": [
    "Exercise Least Square Regression"
   ]
  },
  {
   "cell_type": "code",
   "execution_count": 5,
   "metadata": {},
   "outputs": [
    {
     "name": "stdout",
     "output_type": "stream",
     "text": [
      "[[1.36049355 1.        ]\n",
      " [1.58539853 1.        ]\n",
      " [0.56793475 1.        ]\n",
      " [0.21802393 1.        ]\n",
      " [0.06206493 1.        ]\n",
      " [1.60387076 1.        ]\n",
      " [1.53731311 1.        ]\n",
      " [1.42595889 1.        ]\n",
      " [0.43245974 1.        ]\n",
      " [0.25785061 1.        ]\n",
      " [0.86052338 1.        ]\n",
      " [1.21819146 1.        ]\n",
      " [1.68540917 1.        ]\n",
      " [0.1238014  1.        ]\n",
      " [0.13435859 1.        ]\n",
      " [0.40333701 1.        ]\n",
      " [0.61972298 1.        ]\n",
      " [1.86280338 1.        ]\n",
      " [0.40953338 1.        ]\n",
      " [0.30874443 1.        ]\n",
      " [1.68919688 1.        ]\n",
      " [1.46905874 1.        ]\n",
      " [1.04676121 1.        ]\n",
      " [1.90706076 1.        ]\n",
      " [0.3931033  1.        ]\n",
      " [1.52130633 1.        ]\n",
      " [0.67922434 1.        ]\n",
      " [1.0368081  1.        ]\n",
      " [0.6336033  1.        ]\n",
      " [0.3749051  1.        ]\n",
      " [1.77176327 1.        ]\n",
      " [1.15590281 1.        ]\n",
      " [0.17306906 1.        ]\n",
      " [0.40602787 1.        ]\n",
      " [1.9021951  1.        ]\n",
      " [0.74049566 1.        ]\n",
      " [0.96517273 1.        ]\n",
      " [1.99162558 1.        ]\n",
      " [0.25324037 1.        ]\n",
      " [1.24630665 1.        ]\n",
      " [1.2412639  1.        ]\n",
      " [1.72133221 1.        ]\n",
      " [1.3414349  1.        ]\n",
      " [0.87496301 1.        ]\n",
      " [0.23652393 1.        ]\n",
      " [0.66196373 1.        ]\n",
      " [0.14776061 1.        ]\n",
      " [0.44702253 1.        ]\n",
      " [0.78251743 1.        ]\n",
      " [0.65687303 1.        ]]\n",
      "[[ 1.88608945e+00]\n",
      " [ 3.45380752e+00]\n",
      " [ 4.32612294e-01]\n",
      " [-1.61092909e-01]\n",
      " [ 1.02582162e+00]\n",
      " [ 2.56143474e+00]\n",
      " [ 3.97115671e+00]\n",
      " [ 2.50501790e+00]\n",
      " [ 4.41875366e-01]\n",
      " [ 3.27637200e-01]\n",
      " [ 1.89147496e+00]\n",
      " [ 2.97872189e+00]\n",
      " [ 2.52634645e+00]\n",
      " [ 1.23099865e+00]\n",
      " [-2.01588702e-04]\n",
      " [ 4.08451853e-01]\n",
      " [ 1.26188215e+00]\n",
      " [ 2.89061300e+00]\n",
      " [ 1.51426072e+00]\n",
      " [ 1.45581830e+00]\n",
      " [ 3.05356651e+00]\n",
      " [ 2.53052659e+00]\n",
      " [ 2.99430056e+00]\n",
      " [ 4.77559558e+00]\n",
      " [ 2.51145169e-01]\n",
      " [ 2.66228609e+00]\n",
      " [ 7.01371104e-01]\n",
      " [ 1.35748782e+00]\n",
      " [ 4.58792616e-01]\n",
      " [ 1.04138358e+00]\n",
      " [ 3.23455377e+00]\n",
      " [ 2.94425885e+00]\n",
      " [ 3.24811788e-01]\n",
      " [ 5.67692299e-01]\n",
      " [ 4.65071036e+00]\n",
      " [ 1.92062508e+00]\n",
      " [ 2.06316177e+00]\n",
      " [ 4.71849803e+00]\n",
      " [ 3.28918881e-01]\n",
      " [ 2.54680661e+00]\n",
      " [ 2.56571089e+00]\n",
      " [ 3.10283835e+00]\n",
      " [ 1.91671898e+00]\n",
      " [ 1.96748960e+00]\n",
      " [ 2.09085133e-01]\n",
      " [ 1.37522896e+00]\n",
      " [ 2.10577734e-01]\n",
      " [ 1.19622324e+00]\n",
      " [ 7.06825291e-01]\n",
      " [ 1.42852092e+00]]\n",
      "[[ 1.97463158]\n",
      " [-0.01426912]]\n"
     ]
    },
    {
     "data": {
      "image/png": "[encoded data removed]",
      "text/plain": [
       "<Figure size 640x480 with 1 Axes>"
      ]
     },
     "metadata": {},
     "output_type": "display_data"
    }
   ],
   "source": [
    "x = [1.3604935458559992, 1.5853985257024064, 0.5679347497479994, 0.21802392874941856, 0.06206493009274472, 1.6038707575944073, 1.5373131133875226, 1.4259588903280196, 0.43245973529077086, 0.257850612191316, 0.8605233835228834, 1.2181914607549382, 1.685409170644646, 0.12380139845637994, 0.13435858737521222, 0.4033370073012925, 0.619722978580614, 1.8628033810771025, 0.40953337540132173, 0.30874442757643994, 1.6891968832960647, 1.4690587356094642, 1.0467612052854245, 1.9070607586182264, 0.3931032996568269, 1.5213063293089268, 0.6792243360513193, 1.0368081016233708, 0.6336032973174668, 0.374905103792015, 1.771763274305583, 1.1559028146600263, 0.17306906153876445, 0.40602786961550885, 1.9021950999201134, 0.7404956567184318, 0.9651727271458386, 1.9916255775351712, 0.2532403679742896, 1.2463066512639314, 1.241263902486962, 1.7213322132140918, 1.3414349017801748, 0.8749630082448829, 0.2365239274541533, 0.6619637276533039, 0.14776060842856809, 0.44702252616842086, 0.7825174342129761, 0.6568730252477795]\n",
    "y = [1.8860894486952637, 3.4538075220063913, 0.4326122937324488, -0.16109290897894835, 1.0258216227918515, 2.5614347377115334, 3.9711567124023173, 2.5050179041851806, 0.44187536608782496, 0.32763720038740907, 1.8914749598149787, 2.978721894531936, 2.5263464521598777, 1.2309986450932542, -0.0002015887018562701, 0.40845185338253454, 1.261882153097084, 2.890613004730457, 1.5142607191006958, 1.4558182978954157, 3.0535665102311498, 2.5305265858696826, 2.9943005644276735, 4.775595583754577, 0.2511451686187445, 2.662286088591588, 0.7013711036412655, 1.3574878178829441, 0.45879261586108844, 1.041383576988614, 3.2345537741888895, 2.9442588452869383, 0.32481178798514976, 0.5676922986388366, 4.6507103639541985, 1.9206250787747186, 2.0631617694637643, 4.718498033969695, 0.328918880734296, 2.5468066110409096, 2.56571088586923, 3.1028383540315225, 1.916718978555218, 1.9674896037631926, 0.20908513317900246, 1.3752289600324012, 0.21057773380247213, 1.1962232390302614, 0.7068252906124675, 1.428520921524234]\n",
    "\n",
    "x = np.array(x) # convert list to numpy array\n",
    "y = np.array(y) # convert list to numpy array\n",
    "\n",
    "A = np.vstack([x, np.ones(len(x))]).T # add a column of 1's to A, T = transpose\n",
    "y = y[:, np.newaxis] # slice Y into a column vector, newaxis = increase the dimension of the existing array by one more dimension\n",
    "\n",
    "alpha = np.dot(np.dot(np.linalg.inv(np.dot(A.T, A)), A.T), y) # ini rumus yang Beta = (A^T * A)^-1 * A^T * Y\n",
    "\n",
    "print(A)\n",
    "print(y)\n",
    "print(alpha)\n",
    "\n",
    "plt.plot(x, y, 'ro') # plot the data\n",
    "plt.plot(x, alpha[0]*x + alpha[1], label='Gatau') # plot the line\n",
    "plt.legend()\n",
    "plt.show()"
   ]
  }
 ],
 "metadata": {
  "kernelspec": {
   "display_name": "base",
   "language": "python",
   "name": "python3"
  },
  "language_info": {
   "codemirror_mode": {
    "name": "ipython",
    "version": 3
   },
   "file_extension": ".py",
   "mimetype": "text/x-python",
   "name": "python",
   "nbconvert_exporter": "python",
   "pygments_lexer": "ipython3",
   "version": "3.11.5"
  }
 },
 "nbformat": 4,
 "nbformat_minor": 2
}
