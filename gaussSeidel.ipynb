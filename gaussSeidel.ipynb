{
 "cells": [
  {
   "cell_type": "code",
   "execution_count": 3,
   "metadata": {},
   "outputs": [],
   "source": [
    "import numpy as np"
   ]
  },
  {
   "cell_type": "code",
   "execution_count": 4,
   "metadata": {},
   "outputs": [
    {
     "name": "stdout",
     "output_type": "stream",
     "text": [
      "Diagonally dominant\n",
      "Iteration  1  :  [ 2.5         0.14285714 -0.41428571]\n",
      "Iteration  2  :  [ 2.56666667  0.30136054 -0.49823129]\n",
      "Iteration  3  :  [ 2.51539683  0.35198575 -0.49118043]\n",
      "Iteration  4  :  [ 2.48773394  0.35686763 -0.47989838]\n",
      "Iteration  5  :  [ 2.48153231  0.35380436 -0.4759832 ]\n",
      "Iteration  6  :  [ 2.48175889  0.35206169 -0.47550804]\n",
      "Iteration  7  :  [ 2.48247184  0.35165435 -0.47570497]\n",
      "Iteration  8  :  [ 2.48274115  0.3516618  -0.47583314]\n",
      "Iteration  9  :  [ 2.48278014  0.35170559 -0.47586593]\n",
      "Iteration  10  :  [ 2.48276918  0.35172278 -0.47586654]\n",
      "Iteration  11  :  [ 2.48276079  0.35172543 -0.47586352]\n",
      "Iteration  12  :  [ 2.48275845  0.35172481 -0.47586221]\n",
      "Iteration  13  :  [ 2.48275834  0.35172428 -0.47586198]\n",
      "Iteration  14  :  [ 2.48275852  0.35172413 -0.47586202]\n",
      "Iteration  15  :  [ 2.48275861  0.35172412 -0.47586206]\n",
      "Iteration  16  :  [ 2.48275863  0.35172413 -0.47586207]\n",
      "Iteration  17  :  [ 2.48275862  0.35172414 -0.47586207]\n",
      "Iteration  18  :  [ 2.48275862  0.35172414 -0.47586207]\n",
      "Iteration  19  :  [ 2.48275862  0.35172414 -0.47586207]\n",
      "Convergent\n"
     ]
    }
   ],
   "source": [
    "# 6x + 3y + 2z = 15\n",
    "# 2x + 7y + 3z = 6\n",
    "# 7x + 5y + 15z = 12\n",
    "\n",
    "Xs = [\n",
    "    [6, 3, 2], \n",
    "    [2, 7, 3], \n",
    "    [7, 5, 15]]\n",
    "\n",
    "Ys = [15, 6, 12]\n",
    "\n",
    "def diagonally_dominant(x):\n",
    "    x = np.array(x) # buat jadi numpy array\n",
    "    diag = np.array(np.diag(np.abs(x))) # ambil diagonal dari matrix dan diabsolutkan, absolute -> diagonal -> array\n",
    "    sum = np.sum(np.array(np.abs(x)), axis = 1) #axis 1 untuk sum per row, jumlahin semua elemen per row tapi harus absolute\n",
    "    sum_without_diag = sum - diag # sum tanpa diagonal, untuk ngecek diagonal dominance\n",
    "\n",
    "    if(np.all(diag > sum_without_diag)):\n",
    "        return True  # diagonal dominance (diagonal lebih besar dari sum tanpa diagonal)\n",
    "    else:\n",
    "        return False\n",
    "    \n",
    "def gauss_seidel(x, y, max = 20, error = 0.000000001): # max -> maksimal iterasi, error -> toleransi error\n",
    "    x = np.array(x)\n",
    "    y = np.array(y)\n",
    "\n",
    "    n_old = np.zeros(len(x[0])) # n_old -> nilai awal, array 0 sebanyak column x\n",
    "\n",
    "    diag = np.diag(x) # ambil diagonal dari matrix\n",
    "    x = -x # pindah ruas, karena rumus gauss seidel x = (y - x) / diag\n",
    "\n",
    "    np.fill_diagonal(x, 0) # isi diagonal dengan 0 untuk menghindari pembagian dengan 0\n",
    "\n",
    "    for iteration in range(max): # iterasi sebanyak max\n",
    "        n_new = np.array(n_old) # buat array baru untuk menampung hasil dari setiap iterasi\n",
    "\n",
    "        for i in range(len(x)):\n",
    "            n_new[i] = (y[i] + np.dot(x[i], n_new)) / diag[i] # rumus gauss seidel, update nilai n_new\n",
    "\n",
    "        print(\"Iteration \", iteration + 1, \" : \", n_new)\n",
    "\n",
    "        euclidean = np.sqrt(np.dot(n_new - n_old, n_new - n_old))\n",
    "\n",
    "        if(euclidean < error):\n",
    "            return True\n",
    "    \n",
    "        n_old = n_new\n",
    "\n",
    "    return False\n",
    "\n",
    "if(diagonally_dominant(Xs)):\n",
    "    print(\"Diagonally dominant\")\n",
    "    if(gauss_seidel(Xs, Ys)):\n",
    "        print(\"Convergent\")\n",
    "    else:\n",
    "        print(\"Not convergent\")"
   ]
  }
 ],
 "metadata": {
  "kernelspec": {
   "display_name": "myenv",
   "language": "python",
   "name": "python3"
  },
  "language_info": {
   "codemirror_mode": {
    "name": "ipython",
    "version": 3
   },
   "file_extension": ".py",
   "mimetype": "text/x-python",
   "name": "python",
   "nbconvert_exporter": "python",
   "pygments_lexer": "ipython3",
   "version": "3.11.5"
  }
 },
 "nbformat": 4,
 "nbformat_minor": 2
}
